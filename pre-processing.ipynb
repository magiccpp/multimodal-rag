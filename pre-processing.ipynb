{
 "cells": [
  {
   "cell_type": "code",
   "execution_count": 1,
   "metadata": {},
   "outputs": [],
   "source": [
    "import json\n",
    "\n",
    "json_file = 'data/manufacturing-unit1/auto/manufacturing-unit1_content_list.json'\n",
    "\n",
    "with open (json_file, 'r') as f:\n",
    "    data = f.read()\n",
    "    data = json.loads(data)"
   ]
  },
  {
   "cell_type": "code",
   "execution_count": 2,
   "metadata": {},
   "outputs": [],
   "source": [
    "# Initialize lists to hold tables and images\n",
    "tables = []\n",
    "images = []\n",
    "\n",
    "# Iterate over the JSON data\n",
    "for item in data:\n",
    "    if item.get(\"type\") == \"table\":\n",
    "        tables.append(item)\n",
    "    elif item.get(\"type\") == \"image\":\n",
    "        images.append(item)"
   ]
  },
  {
   "cell_type": "code",
   "execution_count": 13,
   "metadata": {},
   "outputs": [
    {
     "data": {
      "text/plain": [
       "[{'type': 'table',\n",
       "  'img_path': 'images/77752325b37fca96e9566d52a5ffd6e4bf263bbf2119392810a62c4296efe3da.jpg',\n",
       "  'table_caption': ['Table 1.1 '],\n",
       "  'table_footnote': [],\n",
       "  'page_idx': 22},\n",
       " {'type': 'table',\n",
       "  'img_path': 'images/bf7323f0ad7886a60cd8b197b9ff34ab566239ec183aab27285e3270be3ebaf5.jpg',\n",
       "  'table_caption': ['Table 2.1 '],\n",
       "  'table_footnote': [],\n",
       "  'page_idx': 31},\n",
       " {'type': 'table',\n",
       "  'img_path': 'images/464934ab2ce0b04dfba26350a325df37dacfea69b1e6ed6bb18c113a25ddce59.jpg',\n",
       "  'table_caption': ['Table 3.1 ',\n",
       "   'Note: For comparison, tensile strength of Iron is $270\\\\;\\\\mathrm{N/mm}^{2}$ '],\n",
       "  'table_footnote': [],\n",
       "  'page_idx': 34}]"
      ]
     },
     "execution_count": 13,
     "metadata": {},
     "output_type": "execute_result"
    }
   ],
   "source": [
    "tables"
   ]
  },
  {
   "cell_type": "code",
   "execution_count": null,
   "metadata": {},
   "outputs": [
    {
     "name": "stdout",
     "output_type": "stream",
     "text": [
      "Fig. 1.1\n",
      "Fig. 1.1 Stress-strain curve for ductile material \n",
      "Fig. 1.2\n",
      "Fig. 1.2 Dimensions of a standard tensile test-piece \n",
      "Fig. 1.3\n",
      "Fig. 1.3 Stress-strain curve for brittle material \n",
      "Fig. 1.4 (a)\n",
      "Fig. 1.4 (a) IZOD test specimen \n",
      "Fig. 1.4 (b)\n",
      "Fig. 1.4 (b) Specimen fixed in IZOD testing machine \n",
      "Fig. 2.1\n",
      "Fig. 2.1 Microstructure, mechanical properties, and uses of plain carbon steels \n",
      "Table 1.1\n",
      "Table 1.1 \n",
      "Table 2.1\n",
      "Table 2.1 \n",
      "Table 3.1\n",
      "Table 3.1 \n"
     ]
    }
   ],
   "source": [
    "import re\n",
    "# Updated regex pattern to match more specific figure references\n",
    "image_pattern = re.compile(r\"^(Fig\\.|Figure)\\s(\\d+(\\.\\d+)?(\\s*\\([a-z]\\))?)\")\n",
    "table_pattern = re.compile(r\"^(Table)\\s(\\d+(\\.\\d+)?(\\s*\\([a-z]\\))?)\")\n",
    "\n",
    "\n",
    "for image in images:\n",
    "    for caption in image.get(\"img_caption\"):\n",
    "        description = []\n",
    "        match = image_pattern.match(caption)\n",
    "        if match:\n",
    "          matched_part = match.group(0)  # Get the entire matched string\n",
    "          image['ref'] = matched_part\n",
    "          print(matched_part)\n",
    "          print(caption)\n",
    "          description.append(caption.replace(matched_part, '').strip())\n",
    "        else:\n",
    "          description.append(caption)\n",
    "        image['description'] = ';'.join(description)\n",
    "\n",
    "\n",
    "for table in tables:\n",
    "    for caption in table.get(\"table_caption\"):\n",
    "        match = table_pattern.match(caption)\n",
    "        description = ''\n",
    "        if match:\n",
    "          matched_part = match.group(0)  # Get the entire matched string\n",
    "          table['ref'] = matched_part\n",
    "          print(matched_part)\n",
    "          print(caption)\n",
    "          description.append(caption.replace(matched_part, '').strip())\n",
    "        else:\n",
    "          description.append(caption)\n",
    "        table['description'] = ';'.join(description)\n",
    "        \n",
    "\n"
   ]
  },
  {
   "cell_type": "code",
   "execution_count": 18,
   "metadata": {},
   "outputs": [
    {
     "data": {
      "text/plain": [
       "[{'type': 'image',\n",
       "  'img_path': 'images/deb6c02bbbc1c446ac50666bb369645f4c4699f5c6a1cec1f66ed284b287abfa.jpg',\n",
       "  'img_caption': [],\n",
       "  'img_footnote': [],\n",
       "  'page_idx': 0},\n",
       " {'type': 'image',\n",
       "  'img_path': 'images/d5f7764788f85cb4e9d5f4f48d7be2de31d0c734f1ac684408ce5689debf6964.jpg',\n",
       "  'img_caption': [],\n",
       "  'img_footnote': [],\n",
       "  'page_idx': 0},\n",
       " {'type': 'image',\n",
       "  'img_path': 'images/27ed679087f4715d3590e3d062d83e3049561e07110c05316a11ddccb15c6715.jpg',\n",
       "  'img_caption': ['Fig. 1.1 Stress-strain curve for ductile material '],\n",
       "  'img_footnote': [],\n",
       "  'page_idx': 18,\n",
       "  'ref': 'Fig. 1.1',\n",
       "  'description': 'Stress-strain curve for ductile material'},\n",
       " {'type': 'image',\n",
       "  'img_path': 'images/ef0205e9d317792b34dba25d85f6a434884590b3d5a6eac8ee68f28d8c94ee6c.jpg',\n",
       "  'img_caption': ['Note: Gauge, shoulder and overall lengths according to IS : 210-1978. ',\n",
       "   'Fig. 1.2 Dimensions of a standard tensile test-piece '],\n",
       "  'img_footnote': [],\n",
       "  'page_idx': 19,\n",
       "  'ref': 'Fig. 1.2',\n",
       "  'description': 'Dimensions of a standard tensile test-piece'},\n",
       " {'type': 'image',\n",
       "  'img_path': 'images/29d764321a051b3ba1dc8b4f0a7071b1f23abb6fbf677defa9c25ef14aa6a902.jpg',\n",
       "  'img_caption': ['Fig. 1.3 Stress-strain curve for brittle material '],\n",
       "  'img_footnote': [],\n",
       "  'page_idx': 19,\n",
       "  'ref': 'Fig. 1.3',\n",
       "  'description': 'Stress-strain curve for brittle material'},\n",
       " {'type': 'image',\n",
       "  'img_path': 'images/ebafa765501d973566b4e175140198d0854fb7722d2c10fecb32f1779d45d085.jpg',\n",
       "  'img_caption': ['Fig. 1.4 (a) IZOD test specimen '],\n",
       "  'img_footnote': [],\n",
       "  'page_idx': 21,\n",
       "  'ref': 'Fig. 1.4 (a)',\n",
       "  'description': 'IZOD test specimen'},\n",
       " {'type': 'image',\n",
       "  'img_path': 'images/afc44a1e62cb5eee8eec44366cf8c3b5e789418d5c05d1c4a142ac2ab0335765.jpg',\n",
       "  'img_caption': ['Fig. 1.4 (b) Specimen fixed in IZOD testing machine '],\n",
       "  'img_footnote': [],\n",
       "  'page_idx': 21,\n",
       "  'ref': 'Fig. 1.4 (b)',\n",
       "  'description': 'Specimen fixed in IZOD testing machine'},\n",
       " {'type': 'image',\n",
       "  'img_path': 'images/116c0d6ebcb929df9cce34d54c85b876585066e9fcb89cff7bb8ad0940d49efb.jpg',\n",
       "  'img_caption': ['Fig. 2.1 Microstructure, mechanical properties, and uses of plain carbon steels '],\n",
       "  'img_footnote': [],\n",
       "  'page_idx': 27,\n",
       "  'ref': 'Fig. 2.1',\n",
       "  'description': 'Microstructure, mechanical properties, and uses of plain carbon steels'}]"
      ]
     },
     "execution_count": 18,
     "metadata": {},
     "output_type": "execute_result"
    }
   ],
   "source": [
    "images"
   ]
  },
  {
   "cell_type": "code",
   "execution_count": 16,
   "metadata": {},
   "outputs": [
    {
     "data": {
      "text/plain": [
       "[{'type': 'table',\n",
       "  'img_path': 'images/77752325b37fca96e9566d52a5ffd6e4bf263bbf2119392810a62c4296efe3da.jpg',\n",
       "  'table_caption': ['Table 1.1 '],\n",
       "  'table_footnote': [],\n",
       "  'page_idx': 22,\n",
       "  'ref': 'Table 1.1'},\n",
       " {'type': 'table',\n",
       "  'img_path': 'images/bf7323f0ad7886a60cd8b197b9ff34ab566239ec183aab27285e3270be3ebaf5.jpg',\n",
       "  'table_caption': ['Table 2.1 '],\n",
       "  'table_footnote': [],\n",
       "  'page_idx': 31,\n",
       "  'ref': 'Table 2.1'},\n",
       " {'type': 'table',\n",
       "  'img_path': 'images/464934ab2ce0b04dfba26350a325df37dacfea69b1e6ed6bb18c113a25ddce59.jpg',\n",
       "  'table_caption': ['Table 3.1 ',\n",
       "   'Note: For comparison, tensile strength of Iron is $270\\\\;\\\\mathrm{N/mm}^{2}$ '],\n",
       "  'table_footnote': [],\n",
       "  'page_idx': 34,\n",
       "  'ref': 'Table 3.1'}]"
      ]
     },
     "execution_count": 16,
     "metadata": {},
     "output_type": "execute_result"
    }
   ],
   "source": [
    "tables"
   ]
  },
  {
   "cell_type": "code",
   "execution_count": null,
   "metadata": {},
   "outputs": [],
   "source": []
  }
 ],
 "metadata": {
  "kernelspec": {
   "display_name": "pdf2txt",
   "language": "python",
   "name": "python3"
  },
  "language_info": {
   "codemirror_mode": {
    "name": "ipython",
    "version": 3
   },
   "file_extension": ".py",
   "mimetype": "text/x-python",
   "name": "python",
   "nbconvert_exporter": "python",
   "pygments_lexer": "ipython3",
   "version": "3.11.10"
  }
 },
 "nbformat": 4,
 "nbformat_minor": 2
}
