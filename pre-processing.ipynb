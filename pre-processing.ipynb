{
 "cells": [
  {
   "cell_type": "code",
   "execution_count": 1,
   "metadata": {},
   "outputs": [],
   "source": [
    "import json\n",
    "\n",
    "json_file = 'data/manufacturing-unit1/auto/manufacturing-unit1_content_list.json'\n",
    "\n",
    "with open (json_file, 'r') as f:\n",
    "    data = f.read()\n",
    "    data = json.loads(data)"
   ]
  },
  {
   "cell_type": "code",
   "execution_count": 2,
   "metadata": {},
   "outputs": [],
   "source": [
    "# Initialize lists to hold tables and images\n",
    "tables = []\n",
    "images = []\n",
    "\n",
    "# Iterate over the JSON data\n",
    "for item in data:\n",
    "    if item.get(\"type\") == \"table\":\n",
    "        tables.append(item)\n",
    "    elif item.get(\"type\") == \"image\":\n",
    "        images.append(item)"
   ]
  },
  {
   "cell_type": "code",
   "execution_count": 3,
   "metadata": {},
   "outputs": [
    {
     "data": {
      "text/plain": [
       "[{'type': 'table',\n",
       "  'img_path': 'images/77752325b37fca96e9566d52a5ffd6e4bf263bbf2119392810a62c4296efe3da.jpg',\n",
       "  'table_caption': ['Table 1.1 '],\n",
       "  'table_footnote': [],\n",
       "  'page_idx': 22},\n",
       " {'type': 'table',\n",
       "  'img_path': 'images/bf7323f0ad7886a60cd8b197b9ff34ab566239ec183aab27285e3270be3ebaf5.jpg',\n",
       "  'table_caption': ['Table 2.1 '],\n",
       "  'table_footnote': [],\n",
       "  'page_idx': 31},\n",
       " {'type': 'table',\n",
       "  'img_path': 'images/464934ab2ce0b04dfba26350a325df37dacfea69b1e6ed6bb18c113a25ddce59.jpg',\n",
       "  'table_caption': ['Table 3.1 ',\n",
       "   'Note: For comparison, tensile strength of Iron is $270\\\\;\\\\mathrm{N/mm}^{2}$ '],\n",
       "  'table_footnote': [],\n",
       "  'page_idx': 34}]"
      ]
     },
     "execution_count": 3,
     "metadata": {},
     "output_type": "execute_result"
    }
   ],
   "source": [
    "tables"
   ]
  },
  {
   "cell_type": "code",
   "execution_count": 4,
   "metadata": {},
   "outputs": [
    {
     "name": "stdout",
     "output_type": "stream",
     "text": [
      "Fig. 1.1\n",
      "Fig. 1.1 Stress-strain curve for ductile material \n",
      "Fig. 1.2\n",
      "Fig. 1.2 Dimensions of a standard tensile test-piece \n",
      "Fig. 1.3\n",
      "Fig. 1.3 Stress-strain curve for brittle material \n",
      "Fig. 1.4 (a)\n",
      "Fig. 1.4 (a) IZOD test specimen \n",
      "Fig. 1.4 (b)\n",
      "Fig. 1.4 (b) Specimen fixed in IZOD testing machine \n",
      "Fig. 2.1\n",
      "Fig. 2.1 Microstructure, mechanical properties, and uses of plain carbon steels \n",
      "Table 1.1\n",
      "Table 1.1 \n",
      "Table 2.1\n",
      "Table 2.1 \n",
      "Table 3.1\n",
      "Table 3.1 \n"
     ]
    }
   ],
   "source": [
    "import re\n",
    "# Updated regex pattern to match more specific figure references\n",
    "image_pattern = re.compile(r\"^(Fig\\.|Figure)\\s(\\d+(\\.\\d+)?(\\s*\\([a-z]\\))?)\")\n",
    "table_pattern = re.compile(r\"^(Table)\\s(\\d+(\\.\\d+)?(\\s*\\([a-z]\\))?)\")\n",
    "\n",
    "\n",
    "for image in images:\n",
    "    for caption in image.get(\"img_caption\"):\n",
    "        description = []\n",
    "        match = image_pattern.match(caption)\n",
    "        if match:\n",
    "          matched_part = match.group(0)  # Get the entire matched string\n",
    "          image['ref'] = matched_part\n",
    "          print(matched_part)\n",
    "          print(caption)\n",
    "          description.append(caption.replace(matched_part, '').strip())\n",
    "        else:\n",
    "          description.append(caption)\n",
    "        image['description'] = ';'.join(description)\n",
    "\n",
    "\n",
    "for table in tables:\n",
    "    for caption in table.get(\"table_caption\"):\n",
    "        match = table_pattern.match(caption)\n",
    "        description = []\n",
    "        if match:\n",
    "          matched_part = match.group(0)  # Get the entire matched string\n",
    "          table['ref'] = matched_part\n",
    "          print(matched_part)\n",
    "          print(caption)\n",
    "          description.append(caption.replace(matched_part, '').strip())\n",
    "        else:\n",
    "          description.append(caption)\n",
    "        table['description'] = ';'.join(description)\n",
    "        \n",
    "\n"
   ]
  },
  {
   "cell_type": "code",
   "execution_count": 5,
   "metadata": {},
   "outputs": [],
   "source": [
    "with open('data/manufacturing-unit1/auto/image-table-list.json', 'w') as f:\n",
    "    json.dump(images+tables, f, indent=2)"
   ]
  },
  {
   "cell_type": "code",
   "execution_count": 7,
   "metadata": {},
   "outputs": [],
   "source": [
    "# in the markdown file, search for the image/table reference and insert the file name like: ![Figure 1](images/figure1.png)\n",
    "\n",
    "markdown_file = 'data/manufacturing-unit1/auto/manufacturing-unit1.md'\n",
    "out_file = 'data/manufacturing-unit1/auto/manufacturing-unit1-processed.md'\n",
    "with open(markdown_file, 'r') as f:\n",
    "    content = f.read()\n",
    "\n",
    "# remove all file names like ![](images/figure1.png)\n",
    "content = re.sub(r'!\\[\\]\\(images/.*?\\)', '', content)\n",
    "\n",
    "for item in images+tables:\n",
    "  item['description'] = item.get('ref')\n",
    "  # one of the captions will contain the reference\n",
    "  for caption in item.get('img_caption') if item.get('type') == 'image' else item.get('table_caption'):\n",
    "    if item.get('ref') in caption:\n",
    "      item['description'] = caption\n",
    "      break\n",
    "\n",
    "  if item.get('ref'):\n",
    "    content = content.replace(item.get('ref'), f\"![{item['description']}]({item.get('img_path')})\")\n",
    "\n",
    "with open(out_file, 'w') as f:\n",
    "    f.write(content)\n",
    "\n"
   ]
  },
  {
   "cell_type": "code",
   "execution_count": null,
   "metadata": {},
   "outputs": [],
   "source": []
  }
 ],
 "metadata": {
  "kernelspec": {
   "display_name": "pdf2txt",
   "language": "python",
   "name": "python3"
  },
  "language_info": {
   "codemirror_mode": {
    "name": "ipython",
    "version": 3
   },
   "file_extension": ".py",
   "mimetype": "text/x-python",
   "name": "python",
   "nbconvert_exporter": "python",
   "pygments_lexer": "ipython3",
   "version": "3.11.10"
  }
 },
 "nbformat": 4,
 "nbformat_minor": 2
}
